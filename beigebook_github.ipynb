{
  "cells": [
    {
      "cell_type": "markdown",
      "metadata": {
        "id": "PS7QjJCs3Pfo"
      },
      "source": [
        "# 0. Setup"
      ]
    },
    {
      "cell_type": "code",
      "source": [
        "\n",
        "# # install required libraries\n",
        "# !pip3 install transformers[torch]                  # HuggingFace library for interacting with BERT (and multiple other models)\n",
        "# !pip3 install datasets                      # HuggingFace library to process dataframes\n",
        "# !pip3 install sentence-transformers         # library to use Sentence Similarity BERT\n",
        "# !pip3 install bertviz                       # visualize BERT's attention weigths\n",
        "# # !pip3 install annoy                         # Spotify's library for finding nearest neighbours\n",
        "# !pip3 install ipywidgets"
      ],
      "metadata": {
        "id": "RvyFY7B73HA1"
      },
      "execution_count": null,
      "outputs": []
    },
    {
      "cell_type": "code",
      "execution_count": null,
      "metadata": {
        "colab": {
          "base_uri": "https://localhost:8080/"
        },
        "id": "FXSqK2Zz2176",
        "outputId": "5bb72caa-58f4-4c6b-acab-b1261eb5a8e2"
      },
      "outputs": [
        {
          "output_type": "stream",
          "name": "stdout",
          "text": [
            "GPU: True\n"
          ]
        }
      ],
      "source": [
        "# import libraries\n",
        "import gdown\n",
        "import pandas as pd\n",
        "import numpy as np\n",
        "import gdown\n",
        "import random\n",
        "from tqdm.auto import tqdm\n",
        "import seaborn as sns\n",
        "import matplotlib.pyplot as plt\n",
        "import torch\n",
        "\n",
        "from transformers import AutoModel, BertModel, AutoTokenizer, BertForSequenceClassification, pipeline, TrainingArguments, Trainer, utils\n",
        "from transformers.pipelines.base import KeyDataset\n",
        "from datasets import load_dataset, load_metric, Dataset, DatasetDict\n",
        "\n",
        "from gensim.models import Word2Vec\n",
        "import gensim.downloader as api\n",
        "\n",
        "from sklearn.linear_model import LogisticRegression\n",
        "from sklearn.model_selection import cross_val_score, train_test_split\n",
        "from sklearn.metrics import f1_score, precision_score, recall_score, accuracy_score\n",
        "\n",
        "from google.colab import output\n",
        "output.enable_custom_widget_manager()\n",
        "\n",
        "# test GPU\n",
        "print(f\"GPU: {torch.cuda.is_available()}\")"
      ]
    },
    {
      "cell_type": "code",
      "execution_count": null,
      "metadata": {
        "colab": {
          "base_uri": "https://localhost:8080/"
        },
        "id": "pCs15C3V2178",
        "outputId": "264c9bf9-d4db-4ddf-bcdc-5f02b0a9c3b9"
      },
      "outputs": [
        {
          "output_type": "stream",
          "name": "stderr",
          "text": [
            "Downloading...\n",
            "From: https://drive.google.com/uc?export=download&id=1PJd-huIdtYAJoyQmxvmMGWVZKULoa36j\n",
            "To: /content/beigebook.csv\n",
            "100%|██████████| 42.3M/42.3M [00:01<00:00, 27.7MB/s]\n",
            "Downloading...\n",
            "From: https://drive.google.com/uc?export=download&id=1qixCmybbi78VsxNM5dAY0tZ4ocEnPrZ8\n",
            "To: /content/unemploymentrate_q.csv\n",
            "100%|██████████| 68.4k/68.4k [00:00<00:00, 95.3MB/s]\n",
            "Downloading...\n",
            "From: https://drive.google.com/uc?export=download&id=1l-jWIQRfHuVSlqpsBGRNuruzQ6XQD2wV\n",
            "To: /content/unemploymentrate_m.csv\n",
            "100%|██████████| 321k/321k [00:00<00:00, 78.8MB/s]\n"
          ]
        }
      ],
      "source": [
        "# define dictionary with paths to data in Google Drive\n",
        "urls_dict = {\n",
        "              \"beigebook\":        (\"https://drive.google.com/uc?export=download&id=1PJd-huIdtYAJoyQmxvmMGWVZKULoa36j\", \"csv\"),\n",
        "             \"unemploymentrate_q\":      (\"https://drive.google.com/uc?export=download&id=1qixCmybbi78VsxNM5dAY0tZ4ocEnPrZ8\", \"csv\"),\n",
        "              \"unemploymentrate_m\":     (\"https://drive.google.com/uc?export=download&id=1l-jWIQRfHuVSlqpsBGRNuruzQ6XQD2wV\", \"csv\")\n",
        "            }\n",
        "# download all files\n",
        "for file_name, attributes in urls_dict.items():\n",
        "    url = attributes[0]\n",
        "    extension = attributes[1]\n",
        "    gdown.download(url, f\"./{file_name}.{extension}\", quiet=False)"
      ]
    },
    {
      "cell_type": "code",
      "source": [
        "df = pd.read_csv(\"beigebook.csv\", sep='\\t')\n",
        "unemp_q = pd.read_csv(\"unemploymentrate_q.csv\", sep='\\t')\n",
        "unemp_m = pd.read_csv(\"unemploymentrate_m.csv\", sep='\\t')"
      ],
      "metadata": {
        "id": "wJ4K2Shu3v-c"
      },
      "execution_count": null,
      "outputs": []
    },
    {
      "cell_type": "code",
      "source": [
        "data = df.copy()\n",
        "numeric_df = data[['sentence']].apply(pd.to_numeric, errors='coerce')\n",
        "s = numeric_df[numeric_df.sentence.notna()].index\n",
        "data = data.drop(s)"
      ],
      "metadata": {
        "id": "RQGTUpfX62tH"
      },
      "execution_count": null,
      "outputs": []
    },
    {
      "cell_type": "code",
      "execution_count": null,
      "metadata": {
        "id": "MmsliKwg218D"
      },
      "outputs": [],
      "source": [
        "\n",
        "# drop empty sentence or sentence with very few words and section title\n",
        "min_words = 1\n",
        "data[\"sentencelen\"] = data[\"sentence\"].apply(lambda x: len(str(x).split()))\n",
        "data[\"keep_sent\"] = data[\"sentencelen\"].apply(lambda x: x > min_words)\n",
        "data = data.loc[data[\"keep_sent\"]]\n",
        "data.reset_index(drop=True, inplace=True)"
      ]
    },
    {
      "cell_type": "markdown",
      "metadata": {
        "id": "fiX-TMMV218J"
      },
      "source": [
        "### BERT\n"
      ]
    },
    {
      "cell_type": "code",
      "source": [
        "df = data.copy()\n",
        "df.groupby(\"district\").size()"
      ],
      "metadata": {
        "colab": {
          "base_uri": "https://localhost:8080/"
        },
        "id": "s0U2aQ96hChz",
        "outputId": "fc086c1c-2173-40d4-d741-4d39965fb480"
      },
      "execution_count": null,
      "outputs": [
        {
          "output_type": "execute_result",
          "data": {
            "text/plain": [
              "district\n",
              "at    23821\n",
              "bo    23326\n",
              "ch    26309\n",
              "cl    25394\n",
              "da    27142\n",
              "kc    23684\n",
              "mi    23913\n",
              "ny    20465\n",
              "ph    22282\n",
              "ri    24525\n",
              "sf    21191\n",
              "sl    19953\n",
              "su    33180\n",
              "dtype: int64"
            ]
          },
          "metadata": {},
          "execution_count": 76
        }
      ]
    },
    {
      "cell_type": "code",
      "execution_count": null,
      "metadata": {
        "colab": {
          "base_uri": "https://localhost:8080/",
          "height": 206
        },
        "id": "QddUw1y33PgJ",
        "outputId": "f861f8e8-fe34-47d5-f2db-608785f72c79"
      },
      "outputs": [
        {
          "output_type": "execute_result",
          "data": {
            "text/plain": [
              "   yearmonth district                                           sentence  \\\n",
              "0     197005       mi  Although indications of softening in the Ninth...   \n",
              "1     197005       mi  At the same time, however, there does not seem...   \n",
              "2     197005       mi  Consumers apparently are cutting back on their...   \n",
              "3     197005       mi  Currently, a number of construction workers in...   \n",
              "4     197005       mi  Information relating to the Teamsters' strike ...   \n",
              "\n",
              "   sentencelen  keep_sent  \n",
              "0           41       True  \n",
              "1           20       True  \n",
              "2           30       True  \n",
              "3           24       True  \n",
              "4           20       True  "
            ],
            "text/html": [
              "\n",
              "  <div id=\"df-7c2b88ff-f7bc-4e96-b4f5-c25cbf7decf7\" class=\"colab-df-container\">\n",
              "    <div>\n",
              "<style scoped>\n",
              "    .dataframe tbody tr th:only-of-type {\n",
              "        vertical-align: middle;\n",
              "    }\n",
              "\n",
              "    .dataframe tbody tr th {\n",
              "        vertical-align: top;\n",
              "    }\n",
              "\n",
              "    .dataframe thead th {\n",
              "        text-align: right;\n",
              "    }\n",
              "</style>\n",
              "<table border=\"1\" class=\"dataframe\">\n",
              "  <thead>\n",
              "    <tr style=\"text-align: right;\">\n",
              "      <th></th>\n",
              "      <th>yearmonth</th>\n",
              "      <th>district</th>\n",
              "      <th>sentence</th>\n",
              "      <th>sentencelen</th>\n",
              "      <th>keep_sent</th>\n",
              "    </tr>\n",
              "  </thead>\n",
              "  <tbody>\n",
              "    <tr>\n",
              "      <th>0</th>\n",
              "      <td>197005</td>\n",
              "      <td>mi</td>\n",
              "      <td>Although indications of softening in the Ninth...</td>\n",
              "      <td>41</td>\n",
              "      <td>True</td>\n",
              "    </tr>\n",
              "    <tr>\n",
              "      <th>1</th>\n",
              "      <td>197005</td>\n",
              "      <td>mi</td>\n",
              "      <td>At the same time, however, there does not seem...</td>\n",
              "      <td>20</td>\n",
              "      <td>True</td>\n",
              "    </tr>\n",
              "    <tr>\n",
              "      <th>2</th>\n",
              "      <td>197005</td>\n",
              "      <td>mi</td>\n",
              "      <td>Consumers apparently are cutting back on their...</td>\n",
              "      <td>30</td>\n",
              "      <td>True</td>\n",
              "    </tr>\n",
              "    <tr>\n",
              "      <th>3</th>\n",
              "      <td>197005</td>\n",
              "      <td>mi</td>\n",
              "      <td>Currently, a number of construction workers in...</td>\n",
              "      <td>24</td>\n",
              "      <td>True</td>\n",
              "    </tr>\n",
              "    <tr>\n",
              "      <th>4</th>\n",
              "      <td>197005</td>\n",
              "      <td>mi</td>\n",
              "      <td>Information relating to the Teamsters' strike ...</td>\n",
              "      <td>20</td>\n",
              "      <td>True</td>\n",
              "    </tr>\n",
              "  </tbody>\n",
              "</table>\n",
              "</div>\n",
              "    <div class=\"colab-df-buttons\">\n",
              "\n",
              "  <div class=\"colab-df-container\">\n",
              "    <button class=\"colab-df-convert\" onclick=\"convertToInteractive('df-7c2b88ff-f7bc-4e96-b4f5-c25cbf7decf7')\"\n",
              "            title=\"Convert this dataframe to an interactive table.\"\n",
              "            style=\"display:none;\">\n",
              "\n",
              "  <svg xmlns=\"http://www.w3.org/2000/svg\" height=\"24px\" viewBox=\"0 -960 960 960\">\n",
              "    <path d=\"M120-120v-720h720v720H120Zm60-500h600v-160H180v160Zm220 220h160v-160H400v160Zm0 220h160v-160H400v160ZM180-400h160v-160H180v160Zm440 0h160v-160H620v160ZM180-180h160v-160H180v160Zm440 0h160v-160H620v160Z\"/>\n",
              "  </svg>\n",
              "    </button>\n",
              "\n",
              "  <style>\n",
              "    .colab-df-container {\n",
              "      display:flex;\n",
              "      gap: 12px;\n",
              "    }\n",
              "\n",
              "    .colab-df-convert {\n",
              "      background-color: #E8F0FE;\n",
              "      border: none;\n",
              "      border-radius: 50%;\n",
              "      cursor: pointer;\n",
              "      display: none;\n",
              "      fill: #1967D2;\n",
              "      height: 32px;\n",
              "      padding: 0 0 0 0;\n",
              "      width: 32px;\n",
              "    }\n",
              "\n",
              "    .colab-df-convert:hover {\n",
              "      background-color: #E2EBFA;\n",
              "      box-shadow: 0px 1px 2px rgba(60, 64, 67, 0.3), 0px 1px 3px 1px rgba(60, 64, 67, 0.15);\n",
              "      fill: #174EA6;\n",
              "    }\n",
              "\n",
              "    .colab-df-buttons div {\n",
              "      margin-bottom: 4px;\n",
              "    }\n",
              "\n",
              "    [theme=dark] .colab-df-convert {\n",
              "      background-color: #3B4455;\n",
              "      fill: #D2E3FC;\n",
              "    }\n",
              "\n",
              "    [theme=dark] .colab-df-convert:hover {\n",
              "      background-color: #434B5C;\n",
              "      box-shadow: 0px 1px 3px 1px rgba(0, 0, 0, 0.15);\n",
              "      filter: drop-shadow(0px 1px 2px rgba(0, 0, 0, 0.3));\n",
              "      fill: #FFFFFF;\n",
              "    }\n",
              "  </style>\n",
              "\n",
              "    <script>\n",
              "      const buttonEl =\n",
              "        document.querySelector('#df-7c2b88ff-f7bc-4e96-b4f5-c25cbf7decf7 button.colab-df-convert');\n",
              "      buttonEl.style.display =\n",
              "        google.colab.kernel.accessAllowed ? 'block' : 'none';\n",
              "\n",
              "      async function convertToInteractive(key) {\n",
              "        const element = document.querySelector('#df-7c2b88ff-f7bc-4e96-b4f5-c25cbf7decf7');\n",
              "        const dataTable =\n",
              "          await google.colab.kernel.invokeFunction('convertToInteractive',\n",
              "                                                    [key], {});\n",
              "        if (!dataTable) return;\n",
              "\n",
              "        const docLinkHtml = 'Like what you see? Visit the ' +\n",
              "          '<a target=\"_blank\" href=https://colab.research.google.com/notebooks/data_table.ipynb>data table notebook</a>'\n",
              "          + ' to learn more about interactive tables.';\n",
              "        element.innerHTML = '';\n",
              "        dataTable['output_type'] = 'display_data';\n",
              "        await google.colab.output.renderOutput(dataTable, element);\n",
              "        const docLink = document.createElement('div');\n",
              "        docLink.innerHTML = docLinkHtml;\n",
              "        element.appendChild(docLink);\n",
              "      }\n",
              "    </script>\n",
              "  </div>\n",
              "\n",
              "\n",
              "<div id=\"df-62586d1d-0181-4072-a64a-e0faf35a1924\">\n",
              "  <button class=\"colab-df-quickchart\" onclick=\"quickchart('df-62586d1d-0181-4072-a64a-e0faf35a1924')\"\n",
              "            title=\"Suggest charts.\"\n",
              "            style=\"display:none;\">\n",
              "\n",
              "<svg xmlns=\"http://www.w3.org/2000/svg\" height=\"24px\"viewBox=\"0 0 24 24\"\n",
              "     width=\"24px\">\n",
              "    <g>\n",
              "        <path d=\"M19 3H5c-1.1 0-2 .9-2 2v14c0 1.1.9 2 2 2h14c1.1 0 2-.9 2-2V5c0-1.1-.9-2-2-2zM9 17H7v-7h2v7zm4 0h-2V7h2v10zm4 0h-2v-4h2v4z\"/>\n",
              "    </g>\n",
              "</svg>\n",
              "  </button>\n",
              "\n",
              "<style>\n",
              "  .colab-df-quickchart {\n",
              "      --bg-color: #E8F0FE;\n",
              "      --fill-color: #1967D2;\n",
              "      --hover-bg-color: #E2EBFA;\n",
              "      --hover-fill-color: #174EA6;\n",
              "      --disabled-fill-color: #AAA;\n",
              "      --disabled-bg-color: #DDD;\n",
              "  }\n",
              "\n",
              "  [theme=dark] .colab-df-quickchart {\n",
              "      --bg-color: #3B4455;\n",
              "      --fill-color: #D2E3FC;\n",
              "      --hover-bg-color: #434B5C;\n",
              "      --hover-fill-color: #FFFFFF;\n",
              "      --disabled-bg-color: #3B4455;\n",
              "      --disabled-fill-color: #666;\n",
              "  }\n",
              "\n",
              "  .colab-df-quickchart {\n",
              "    background-color: var(--bg-color);\n",
              "    border: none;\n",
              "    border-radius: 50%;\n",
              "    cursor: pointer;\n",
              "    display: none;\n",
              "    fill: var(--fill-color);\n",
              "    height: 32px;\n",
              "    padding: 0;\n",
              "    width: 32px;\n",
              "  }\n",
              "\n",
              "  .colab-df-quickchart:hover {\n",
              "    background-color: var(--hover-bg-color);\n",
              "    box-shadow: 0 1px 2px rgba(60, 64, 67, 0.3), 0 1px 3px 1px rgba(60, 64, 67, 0.15);\n",
              "    fill: var(--button-hover-fill-color);\n",
              "  }\n",
              "\n",
              "  .colab-df-quickchart-complete:disabled,\n",
              "  .colab-df-quickchart-complete:disabled:hover {\n",
              "    background-color: var(--disabled-bg-color);\n",
              "    fill: var(--disabled-fill-color);\n",
              "    box-shadow: none;\n",
              "  }\n",
              "\n",
              "  .colab-df-spinner {\n",
              "    border: 2px solid var(--fill-color);\n",
              "    border-color: transparent;\n",
              "    border-bottom-color: var(--fill-color);\n",
              "    animation:\n",
              "      spin 1s steps(1) infinite;\n",
              "  }\n",
              "\n",
              "  @keyframes spin {\n",
              "    0% {\n",
              "      border-color: transparent;\n",
              "      border-bottom-color: var(--fill-color);\n",
              "      border-left-color: var(--fill-color);\n",
              "    }\n",
              "    20% {\n",
              "      border-color: transparent;\n",
              "      border-left-color: var(--fill-color);\n",
              "      border-top-color: var(--fill-color);\n",
              "    }\n",
              "    30% {\n",
              "      border-color: transparent;\n",
              "      border-left-color: var(--fill-color);\n",
              "      border-top-color: var(--fill-color);\n",
              "      border-right-color: var(--fill-color);\n",
              "    }\n",
              "    40% {\n",
              "      border-color: transparent;\n",
              "      border-right-color: var(--fill-color);\n",
              "      border-top-color: var(--fill-color);\n",
              "    }\n",
              "    60% {\n",
              "      border-color: transparent;\n",
              "      border-right-color: var(--fill-color);\n",
              "    }\n",
              "    80% {\n",
              "      border-color: transparent;\n",
              "      border-right-color: var(--fill-color);\n",
              "      border-bottom-color: var(--fill-color);\n",
              "    }\n",
              "    90% {\n",
              "      border-color: transparent;\n",
              "      border-bottom-color: var(--fill-color);\n",
              "    }\n",
              "  }\n",
              "</style>\n",
              "\n",
              "  <script>\n",
              "    async function quickchart(key) {\n",
              "      const quickchartButtonEl =\n",
              "        document.querySelector('#' + key + ' button');\n",
              "      quickchartButtonEl.disabled = true;  // To prevent multiple clicks.\n",
              "      quickchartButtonEl.classList.add('colab-df-spinner');\n",
              "      try {\n",
              "        const charts = await google.colab.kernel.invokeFunction(\n",
              "            'suggestCharts', [key], {});\n",
              "      } catch (error) {\n",
              "        console.error('Error during call to suggestCharts:', error);\n",
              "      }\n",
              "      quickchartButtonEl.classList.remove('colab-df-spinner');\n",
              "      quickchartButtonEl.classList.add('colab-df-quickchart-complete');\n",
              "    }\n",
              "    (() => {\n",
              "      let quickchartButtonEl =\n",
              "        document.querySelector('#df-62586d1d-0181-4072-a64a-e0faf35a1924 button');\n",
              "      quickchartButtonEl.style.display =\n",
              "        google.colab.kernel.accessAllowed ? 'block' : 'none';\n",
              "    })();\n",
              "  </script>\n",
              "</div>\n",
              "    </div>\n",
              "  </div>\n"
            ]
          },
          "metadata": {},
          "execution_count": 77
        }
      ],
      "source": [
        "df.head()"
      ]
    },
    {
      "cell_type": "code",
      "source": [
        "df = df[df[\"sentence\"].str.startswith(\"For more information about District economic conditions visit\") == False]"
      ],
      "metadata": {
        "id": "-Ks3u6cDgJIb"
      },
      "execution_count": null,
      "outputs": []
    },
    {
      "cell_type": "code",
      "source": [
        "# merge each sentence with the unemployment rate from its district and year-month\n",
        "df = df.merge(unemp_m,how='left',on=['yearmonth','district']).copy().dropna(subset=['value'])"
      ],
      "metadata": {
        "id": "KWTPgRvVhsCg"
      },
      "execution_count": null,
      "outputs": []
    },
    {
      "cell_type": "code",
      "execution_count": null,
      "metadata": {
        "colab": {
          "base_uri": "https://localhost:8080/"
        },
        "id": "sQl-KobJ3PgV",
        "outputId": "6841f830-ee24-4186-de3e-797a35fc7038"
      },
      "outputs": [
        {
          "output_type": "stream",
          "name": "stdout",
          "text": [
            "Sentence from: mi\n",
            "\n",
            "A large mining company announced that it will idle some of its production   at operations in Minnesota and the Upper Peninsula in 2013, citing lower ore   prices and reduced global demand\n"
          ]
        }
      ],
      "source": [
        "# lets explore a random sentence from our corpus\n",
        "i = np.random.randint(0, len(df))\n",
        "print(f\"Sentence from: {df.loc[i, 'district']}\\n\")\n",
        "print(df.loc[i, \"sentence\"])"
      ]
    },
    {
      "cell_type": "code",
      "execution_count": null,
      "metadata": {
        "id": "cOSj83To-TLa"
      },
      "outputs": [],
      "source": [
        "# save the dataset\n",
        "# df.to_parquet(\"bb_unemp.parquet\", index=False)"
      ]
    },
    {
      "cell_type": "markdown",
      "metadata": {
        "id": "bFADvXxm3Pgg"
      },
      "source": [
        "# 2. Accessing BERT through HuggingFace"
      ]
    },
    {
      "cell_type": "markdown",
      "metadata": {
        "id": "KX9UlXms3Pgj"
      },
      "source": [
        "### Text tokenization\n",
        "\n",
        "We will start by using the ```AutoTokenizer``` class to load the tokenizer from ```bert-base-uncased```. BERT´s Tokenizer was trained on English Wikipedia and the Book Corpus and contains a total amount of 30,522 unique tokens."
      ]
    },
    {
      "cell_type": "code",
      "execution_count": null,
      "metadata": {
        "id": "kf7lkJjB3Pgn"
      },
      "outputs": [],
      "source": [
        "# load a tokenizer using the name of the model we want to use\n",
        "tokenizer = AutoTokenizer.from_pretrained(\"bert-base-uncased\")"
      ]
    },
    {
      "cell_type": "code",
      "execution_count": null,
      "metadata": {
        "colab": {
          "base_uri": "https://localhost:8080/"
        },
        "id": "newTmfkw3Pgp",
        "outputId": "ed51201c-df68-4ed7-e33e-30400f93bce2"
      },
      "outputs": [
        {
          "output_type": "execute_result",
          "data": {
            "text/plain": [
              "BertTokenizerFast(name_or_path='bert-base-uncased', vocab_size=30522, model_max_length=512, is_fast=True, padding_side='right', truncation_side='right', special_tokens={'unk_token': '[UNK]', 'sep_token': '[SEP]', 'pad_token': '[PAD]', 'cls_token': '[CLS]', 'mask_token': '[MASK]'}, clean_up_tokenization_spaces=True)"
            ]
          },
          "metadata": {},
          "execution_count": 83
        }
      ],
      "source": [
        "# inspect the configuration of the tokenizer\n",
        "tokenizer"
      ]
    },
    {
      "cell_type": "markdown",
      "metadata": {
        "id": "QBmdeCFT3Pgw"
      },
      "source": [
        "Passing a list of sequences to the tokenizer object will apply the following steps to each sequence:\n",
        "\n",
        "1. Breakdown the sequence into individual tokens that are part of BERT's vocabulary\n",
        "2. Transform tokens into their ids\n",
        "3. Add special tokens\n",
        "4. Apply truncation and padding (optional)"
      ]
    },
    {
      "cell_type": "code",
      "execution_count": null,
      "metadata": {
        "id": "aVO1aCZg3Pgx"
      },
      "outputs": [],
      "source": [
        "# # pass all sequences through the tokenizer\n",
        "# encoded_sentences = tokenizer(list(df[\"sentence\"].values),     # list of sequences we want to tokenize\n",
        "#                               truncation=True,                  # truncate sequences longer than specified length\n",
        "#                               max_length=60,                    # maximum number of tokens per sequence\n",
        "#                               padding=\"max_length\",             # pad all sequences to the same size\n",
        "#                               return_tensors='pt'               # data type of results\n",
        "#                               )\n",
        "# # inspect the results\n",
        "# encoded_sentences.keys()"
      ]
    },
    {
      "cell_type": "code",
      "execution_count": null,
      "metadata": {
        "id": "gLcqUYGq3Pgy"
      },
      "outputs": [],
      "source": [
        "# # examine BERT's tokenization in detail for a random sentence\n",
        "# i = np.random.randint(0, len(df))\n",
        "# print(\"Original sentence:\")\n",
        "# print(df.loc[i, \"sentence\"])\n",
        "# print(\"\\n------------------------------------------\\n\")\n",
        "# print(\"Tokens:\")\n",
        "# temp_tokens = encoded_sentences[\"input_ids\"][i]\n",
        "# print(tokenizer.convert_ids_to_tokens(temp_tokens))\n",
        "# print(\"\\n------------------------------------------\\n\")\n",
        "# print(\"Tokens IDs:\")\n",
        "# print(temp_tokens)"
      ]
    },
    {
      "cell_type": "markdown",
      "metadata": {
        "id": "_RAiwdNr3Pg1"
      },
      "source": [
        "There are several important features of the tokenization process that are worth highlighting:\n",
        "1. **Special Tokens**: BERT's tokenizer introduces three types of special tokens to each sentence it tokenizes.\n",
        "    - *Class token* ```[CLS]```: Gets introduced at the start of each sequence and, broadly speaking, it is intented to capture the relevant information of a sequence for a particular prediction task\n",
        "    - *End of sequence token* ```[SEP]```: Demarcates the end of a sequence. This token becomes very relevant in sceneraios where a single sequence contains two distinc pieces of information (e.g. question/answer)\n",
        "    - *Padding token* ```[PAD]```: Facillitates the use of arrays and tensors by making all sequences of equal length\n",
        "2. **Punctuation marks** get their own tokens\n",
        "3. **Subwords**: Words that are not included in BERT's vocabulary get divided into subwords that are part of the vocabulary."
      ]
    },
    {
      "cell_type": "markdown",
      "metadata": {
        "id": "OFh80z5C3Pg5"
      },
      "source": [
        "### Loading and using a model\n",
        "\n",
        "We will now use the ```AutoModel``` class to load our model and transform our tokenized sequences into their embedded representations.\n"
      ]
    },
    {
      "cell_type": "code",
      "execution_count": null,
      "metadata": {
        "id": "6grXgSQN3Pg6"
      },
      "outputs": [],
      "source": [
        "# # HuggingFace´s generic class for working with language models out-of-the-box\n",
        "# AutoModel"
      ]
    },
    {
      "cell_type": "code",
      "execution_count": null,
      "metadata": {
        "id": "J6ueMXqC3Pg8"
      },
      "outputs": [],
      "source": [
        "# load a model using its name and explore its configuration\n",
        "model = AutoModel.from_pretrained(\"bert-base-uncased\",          # our choice of model\n",
        "                                  output_hidden_states=True,    # output all hidden states so that we can fully explore the model\n",
        "                                  output_attentions=True        # output attention weigths so that we can fully explore the model\n",
        "                                  )\n",
        "\n",
        "# put model in evaluation model (we will not do any training)\n",
        "model = model.eval()"
      ]
    },
    {
      "cell_type": "code",
      "execution_count": null,
      "metadata": {
        "id": "7ZVpU95r3Pg9",
        "colab": {
          "base_uri": "https://localhost:8080/"
        },
        "outputId": "b06767ec-08b5-400a-e397-16c5c43d8aea"
      },
      "outputs": [
        {
          "output_type": "stream",
          "name": "stdout",
          "text": [
            "BertConfig {\n",
            "  \"_name_or_path\": \"bert-base-uncased\",\n",
            "  \"architectures\": [\n",
            "    \"BertForMaskedLM\"\n",
            "  ],\n",
            "  \"attention_probs_dropout_prob\": 0.1,\n",
            "  \"classifier_dropout\": null,\n",
            "  \"gradient_checkpointing\": false,\n",
            "  \"hidden_act\": \"gelu\",\n",
            "  \"hidden_dropout_prob\": 0.1,\n",
            "  \"hidden_size\": 768,\n",
            "  \"initializer_range\": 0.02,\n",
            "  \"intermediate_size\": 3072,\n",
            "  \"layer_norm_eps\": 1e-12,\n",
            "  \"max_position_embeddings\": 512,\n",
            "  \"model_type\": \"bert\",\n",
            "  \"num_attention_heads\": 12,\n",
            "  \"num_hidden_layers\": 12,\n",
            "  \"output_attentions\": true,\n",
            "  \"output_hidden_states\": true,\n",
            "  \"pad_token_id\": 0,\n",
            "  \"position_embedding_type\": \"absolute\",\n",
            "  \"transformers_version\": \"4.33.3\",\n",
            "  \"type_vocab_size\": 2,\n",
            "  \"use_cache\": true,\n",
            "  \"vocab_size\": 30522\n",
            "}\n",
            "\n"
          ]
        }
      ],
      "source": [
        "# # if we wish to further inspect the model's configuration in detail we can use the config attribute\n",
        "print(model.config)"
      ]
    },
    {
      "cell_type": "markdown",
      "metadata": {
        "id": "KtKf00hv3Pg-"
      },
      "source": [
        "### Passing a sequence through the model\n",
        "\n",
        "Generating an embedded representation of a sequence with BERT requires passing its tokens through multiple layers of trained weights."
      ]
    },
    {
      "cell_type": "code",
      "execution_count": null,
      "metadata": {
        "id": "iBsMr3Nd3PhC"
      },
      "outputs": [],
      "source": [
        "# # lets first get a single sentence as an example\n",
        "# sent_position = 7\n",
        "# sent = df.iloc[7].sentence\n",
        "# print( sent + \"\\n\")\n",
        "\n",
        "# # tokenize\n",
        "# sent_encoded = tokenizer(sent,  max_length=60, padding=\"max_length\", truncation=True, return_tensors='pt')\n",
        "# sent_encoded[\"input_ids\"]"
      ]
    },
    {
      "cell_type": "code",
      "execution_count": null,
      "metadata": {
        "id": "mW1aFJS33PhE"
      },
      "outputs": [],
      "source": [
        "# # apply forward pass through the model (do not accumulate gradients; we are not training)\n",
        "# with torch.no_grad():\n",
        "#     result = model(**sent_encoded)"
      ]
    },
    {
      "cell_type": "code",
      "execution_count": null,
      "metadata": {
        "id": "UHuNdqI63PhF"
      },
      "outputs": [],
      "source": [
        "# what is \"result\" ?"
      ]
    },
    {
      "cell_type": "code",
      "execution_count": null,
      "metadata": {
        "id": "a2JeGmlz3PhF"
      },
      "outputs": [],
      "source": [
        "# # explore output from model\n",
        "# print(f\"Number of hidden layers: {len(result.hidden_states)}\")\n",
        "# print(f\"Shape of output of each hidden layer: {result.hidden_states[5].shape}\") # batch_size, number of tokens, embedding dimension\n",
        "# print(f\"Shape of pooler output: {result.pooler_output.shape}\") # batch_size, embedding dimension"
      ]
    },
    {
      "cell_type": "markdown",
      "metadata": {
        "id": "Kd0EL29r3PhG"
      },
      "source": [
        "### Creating a sequence representation\n",
        "\n",
        "There are several ways in which the output of BERT can be used to generate an embedded representation of a sequence of text. We will show some of them below. However, following the way in which BERT was pre-trained, we will focus on the embedded representation of the ```[CLS]``` token in the last hidden layer. This representation, is the one used to fullfil the next sentence prediction task on which BERT is trained."
      ]
    },
    {
      "cell_type": "code",
      "execution_count": null,
      "metadata": {
        "id": "dCGGnjUD3PhH"
      },
      "outputs": [],
      "source": [
        "# # use the embedding of the [CLS] token as the representation of the sequence\n",
        "# cls_emb = result.hidden_states[-1][0][0]\n",
        "# print(f\"Shape of [CLS] embedding: {cls_emb.shape}\")"
      ]
    },
    {
      "cell_type": "code",
      "execution_count": null,
      "metadata": {
        "id": "vauwtIUs3PhJ"
      },
      "outputs": [],
      "source": [
        "# # we can also average the embeddings of all tokens in a given hidden state (e.g. layer 11)\n",
        "# avg_emb = torch.mean(result.hidden_states[-2][0], dim=0)\n",
        "# print(f\"Shape of average embedding: {avg_emb.shape}\")"
      ]
    },
    {
      "cell_type": "markdown",
      "metadata": {
        "id": "adxBj5Gt3PhK"
      },
      "source": [
        "# 3. Generating features for a regression model\n",
        "\n",
        "We will use the embedded sequence representation that we have constructed as a covariate of a prediction model. Concretely, we will estimate a multivariate logistic regression with regularization where, for each sentence $i$ in our corpus, we predict the 2-digit NAICS sector of the firm."
      ]
    },
    {
      "cell_type": "markdown",
      "metadata": {
        "id": "D2pk94BO3PhL"
      },
      "source": [
        "### BERT features"
      ]
    },
    {
      "cell_type": "markdown",
      "metadata": {
        "id": "Km6813T83PhT"
      },
      "source": [
        "HuggingFace provides a very convenient interface for tokenizing and passing sequences through the model with few lines of code. To do this, we will use the ```pipeline()``` class. This class allows us to choose a particular task (e.g. features-extraction, text-classification) and, with the appropriate model and tokenizer, it will generate the correct output for the task (e.g. embedded features, classification probabilitites). All the available pipelines can be explored [here](https://huggingface.co/docs/transformers/main_classes/pipelines)."
      ]
    },
    {
      "cell_type": "code",
      "execution_count": null,
      "metadata": {
        "colab": {
          "base_uri": "https://localhost:8080/",
          "height": 36
        },
        "id": "jB5zubur3PhU",
        "outputId": "5ab14390-2d21-4703-b9aa-4c7e6f56a09d"
      },
      "outputs": [
        {
          "output_type": "execute_result",
          "data": {
            "text/plain": [
              "'feature-extraction'"
            ],
            "application/vnd.google.colaboratory.intrinsic+json": {
              "type": "string"
            }
          },
          "metadata": {},
          "execution_count": 95
        }
      ],
      "source": [
        "# generate features from text using a pipeline object\n",
        "feature_extraction = pipeline(task=\"feature-extraction\",      # define the task\n",
        "                              model=model,                    # model should be appropriate for the task\n",
        "                              tokenizer=tokenizer,            # selected tokenizer\n",
        "                              batch_size=16,                  # batching only supported for GPUs\n",
        "                              device=0,                       # -1 for CPU and 0 for GPU\n",
        "                              framework=\"pt\"                  # data type (pt = pytorch)\n",
        "                              )\n",
        "# verify the task we selected\n",
        "feature_extraction.task"
      ]
    },
    {
      "cell_type": "code",
      "source": [
        "df = df.loc[216208:]"
      ],
      "metadata": {
        "id": "RZqVgoZCwxh_"
      },
      "execution_count": null,
      "outputs": []
    },
    {
      "cell_type": "code",
      "execution_count": null,
      "metadata": {
        "colab": {
          "base_uri": "https://localhost:8080/"
        },
        "id": "W6IDAVNi3PhV",
        "outputId": "ff33fe4b-dfdd-4b83-87cf-b533b63d05f1"
      },
      "outputs": [
        {
          "output_type": "execute_result",
          "data": {
            "text/plain": [
              "Dataset({\n",
              "    features: ['yearmonth', 'district', 'sentence', 'sentencelen', 'keep_sent', 'year', 'month', 'value', 'change', '__index_level_0__'],\n",
              "    num_rows: 86519\n",
              "})"
            ]
          },
          "metadata": {},
          "execution_count": 97
        }
      ],
      "source": [
        "# transform dataframe into Dataset class (easier to work with pipeline)\n",
        "dataset = Dataset.from_pandas(df)\n",
        "dataset"
      ]
    },
    {
      "cell_type": "code",
      "execution_count": null,
      "metadata": {
        "colab": {
          "base_uri": "https://localhost:8080/",
          "height": 49,
          "referenced_widgets": [
            "f77465ea951d410795056cf011508512",
            "412dcd6a4c074c47ab791cef90a25e39",
            "c39a2820969b4502973477fca134dd20",
            "756fd737cf4b4fd2ad1f2c6c59eb110c",
            "290238a3f1334d29b95ba2e38b800a76",
            "a4c4247136e944bea0652309beeb0f86",
            "08e8c2f67abc4aef88eff2d520a1e903",
            "5426c15dc8da447faaaf2b8ea9dc3859",
            "fd52c2f9f10f424f9d282356261b472f",
            "dc4885ce4be04d728c9c62f57fd495b4",
            "eba7525bbf2c40489ef31fe8def313e1"
          ]
        },
        "id": "w7iW4wm-3PhX",
        "outputId": "b6e1452c-fdb9-4fc3-a410-e14eaf73ecef"
      },
      "outputs": [
        {
          "output_type": "display_data",
          "data": {
            "text/plain": [
              "  0%|          | 0/5408 [00:00<?, ?it/s]"
            ],
            "application/vnd.jupyter.widget-view+json": {
              "version_major": 2,
              "version_minor": 0,
              "model_id": "f77465ea951d410795056cf011508512"
            }
          },
          "metadata": {
            "application/vnd.jupyter.widget-view+json": {
              "colab": {
                "custom_widget_manager": {
                  "url": "https://ssl.gstatic.com/colaboratory-static/widgets/colab-cdn-widget-manager/b3e629b1971e1542/manager.min.js"
                }
              }
            }
          }
        }
      ],
      "source": [
        "# iterate through our sequences to extract the [CLS] embedding (takes a couple of minutes)\n",
        "all_cls = []\n",
        "for out in tqdm(feature_extraction(KeyDataset(dataset, \"sentence\"),\n",
        "                                   truncation=True,\n",
        "                                   max_length=60,\n",
        "                                   padding=False)\n",
        "                ):\n",
        "\n",
        "    # extract the [CLS] embedding from all sentences\n",
        "    all_cls.append(out[0][0])\n",
        "  # only using text from 201001, batch size 16, took 16 minutes on T4 GPU Colab"
      ]
    },
    {
      "cell_type": "code",
      "execution_count": null,
      "metadata": {
        "colab": {
          "base_uri": "https://localhost:8080/",
          "height": 444
        },
        "id": "AJfWXdz33PhY",
        "outputId": "ed316aad-9259-49c9-de33-49c01928684b"
      },
      "outputs": [
        {
          "output_type": "execute_result",
          "data": {
            "text/plain": [
              "            0         1         2         3         4         5         6    \\\n",
              "0     -0.174412 -0.624525 -0.162623 -0.010187  0.190232 -0.306029 -0.117452   \n",
              "1     -0.469563 -0.262048 -0.462355 -0.095217 -0.601478  0.338046  0.698058   \n",
              "2     -0.341705 -0.241713  0.490195 -0.549440 -0.167592 -0.119806  0.178801   \n",
              "3     -0.428109 -0.725834 -0.377600 -0.276084 -0.288773  0.505337  0.182204   \n",
              "4     -0.478854 -0.757280 -0.005666 -0.194791 -0.482716  0.394825 -0.166216   \n",
              "...         ...       ...       ...       ...       ...       ...       ...   \n",
              "86514 -0.433307 -0.433407 -0.967174  0.017751 -0.490015  0.086356  0.549783   \n",
              "86515 -0.519334  0.053685 -1.135710  0.434873 -0.102463  0.151388  0.135491   \n",
              "86516 -0.604897 -0.841650 -0.293491 -0.273255  0.119491 -0.121542  0.013606   \n",
              "86517 -0.251447 -0.169100 -0.530550  0.087250 -0.653295 -0.094658  0.581185   \n",
              "86518 -0.444577 -0.084230 -0.297555  0.028850 -0.384673  0.132407  0.183534   \n",
              "\n",
              "            7         8         9    ...       758       759       760  \\\n",
              "0      0.358987 -0.164427 -0.518598  ... -0.078941  0.110602 -0.234183   \n",
              "1      0.952954 -0.279171 -0.192739  ...  0.071862  0.094950  0.081828   \n",
              "2      0.615342 -0.163971 -0.168407  ... -0.169051 -0.348475  0.080954   \n",
              "3      0.758563  0.297468 -0.394165  ...  0.129805 -0.039064  0.584993   \n",
              "4      0.610825 -0.036999 -0.011187  ...  0.055578 -0.307464  0.116982   \n",
              "...         ...       ...       ...  ...       ...       ...       ...   \n",
              "86514  0.811569 -0.199876 -0.169756  ...  0.224933  0.052450  0.266871   \n",
              "86515  0.792355 -0.337779 -0.197576  ... -0.053217 -0.472103  0.051998   \n",
              "86516  0.956161  0.259269 -0.003842  ...  0.040477 -0.021661  0.362763   \n",
              "86517  1.027400 -0.118385 -0.171084  ... -0.287887  0.042789 -0.049742   \n",
              "86518  0.572081 -0.274321 -0.096338  ...  0.015481  0.062222  0.235186   \n",
              "\n",
              "            761       762       763       764       765       766       767  \n",
              "0     -0.041415 -0.162482 -0.125804 -0.160138 -0.490149  0.551221  0.042481  \n",
              "1      0.222709  0.532710 -0.427495 -0.187725 -0.618710  0.519265 -0.412500  \n",
              "2      0.310150  0.160906 -0.305528 -0.381552 -0.228056  0.193880  0.183090  \n",
              "3      0.496433  0.194329 -0.076100 -0.037932 -0.806802  0.281585 -0.156309  \n",
              "4     -0.206165  0.190313 -0.200107 -0.813707 -0.183190  0.571792  0.132012  \n",
              "...         ...       ...       ...       ...       ...       ...       ...  \n",
              "86514  0.164655  0.316175 -0.036697 -0.121637 -0.640279  0.822378 -0.108541  \n",
              "86515  0.233606  0.334826  0.294379 -0.238644 -0.626327  0.405813  0.006394  \n",
              "86516  0.616415  0.123729  0.608757  0.064516 -0.557803  0.287203 -0.337126  \n",
              "86517  0.197822  0.407080 -0.128762 -0.177245 -0.631871  0.194791  0.020785  \n",
              "86518  0.314883  0.243985 -0.249525 -0.060813 -0.810431  0.258607 -0.037231  \n",
              "\n",
              "[86519 rows x 768 columns]"
            ],
            "text/html": [
              "\n",
              "  <div id=\"df-b4ea3755-28fd-462a-b50e-7ebd30f79617\" class=\"colab-df-container\">\n",
              "    <div>\n",
              "<style scoped>\n",
              "    .dataframe tbody tr th:only-of-type {\n",
              "        vertical-align: middle;\n",
              "    }\n",
              "\n",
              "    .dataframe tbody tr th {\n",
              "        vertical-align: top;\n",
              "    }\n",
              "\n",
              "    .dataframe thead th {\n",
              "        text-align: right;\n",
              "    }\n",
              "</style>\n",
              "<table border=\"1\" class=\"dataframe\">\n",
              "  <thead>\n",
              "    <tr style=\"text-align: right;\">\n",
              "      <th></th>\n",
              "      <th>0</th>\n",
              "      <th>1</th>\n",
              "      <th>2</th>\n",
              "      <th>3</th>\n",
              "      <th>4</th>\n",
              "      <th>5</th>\n",
              "      <th>6</th>\n",
              "      <th>7</th>\n",
              "      <th>8</th>\n",
              "      <th>9</th>\n",
              "      <th>...</th>\n",
              "      <th>758</th>\n",
              "      <th>759</th>\n",
              "      <th>760</th>\n",
              "      <th>761</th>\n",
              "      <th>762</th>\n",
              "      <th>763</th>\n",
              "      <th>764</th>\n",
              "      <th>765</th>\n",
              "      <th>766</th>\n",
              "      <th>767</th>\n",
              "    </tr>\n",
              "  </thead>\n",
              "  <tbody>\n",
              "    <tr>\n",
              "      <th>0</th>\n",
              "      <td>-0.174412</td>\n",
              "      <td>-0.624525</td>\n",
              "      <td>-0.162623</td>\n",
              "      <td>-0.010187</td>\n",
              "      <td>0.190232</td>\n",
              "      <td>-0.306029</td>\n",
              "      <td>-0.117452</td>\n",
              "      <td>0.358987</td>\n",
              "      <td>-0.164427</td>\n",
              "      <td>-0.518598</td>\n",
              "      <td>...</td>\n",
              "      <td>-0.078941</td>\n",
              "      <td>0.110602</td>\n",
              "      <td>-0.234183</td>\n",
              "      <td>-0.041415</td>\n",
              "      <td>-0.162482</td>\n",
              "      <td>-0.125804</td>\n",
              "      <td>-0.160138</td>\n",
              "      <td>-0.490149</td>\n",
              "      <td>0.551221</td>\n",
              "      <td>0.042481</td>\n",
              "    </tr>\n",
              "    <tr>\n",
              "      <th>1</th>\n",
              "      <td>-0.469563</td>\n",
              "      <td>-0.262048</td>\n",
              "      <td>-0.462355</td>\n",
              "      <td>-0.095217</td>\n",
              "      <td>-0.601478</td>\n",
              "      <td>0.338046</td>\n",
              "      <td>0.698058</td>\n",
              "      <td>0.952954</td>\n",
              "      <td>-0.279171</td>\n",
              "      <td>-0.192739</td>\n",
              "      <td>...</td>\n",
              "      <td>0.071862</td>\n",
              "      <td>0.094950</td>\n",
              "      <td>0.081828</td>\n",
              "      <td>0.222709</td>\n",
              "      <td>0.532710</td>\n",
              "      <td>-0.427495</td>\n",
              "      <td>-0.187725</td>\n",
              "      <td>-0.618710</td>\n",
              "      <td>0.519265</td>\n",
              "      <td>-0.412500</td>\n",
              "    </tr>\n",
              "    <tr>\n",
              "      <th>2</th>\n",
              "      <td>-0.341705</td>\n",
              "      <td>-0.241713</td>\n",
              "      <td>0.490195</td>\n",
              "      <td>-0.549440</td>\n",
              "      <td>-0.167592</td>\n",
              "      <td>-0.119806</td>\n",
              "      <td>0.178801</td>\n",
              "      <td>0.615342</td>\n",
              "      <td>-0.163971</td>\n",
              "      <td>-0.168407</td>\n",
              "      <td>...</td>\n",
              "      <td>-0.169051</td>\n",
              "      <td>-0.348475</td>\n",
              "      <td>0.080954</td>\n",
              "      <td>0.310150</td>\n",
              "      <td>0.160906</td>\n",
              "      <td>-0.305528</td>\n",
              "      <td>-0.381552</td>\n",
              "      <td>-0.228056</td>\n",
              "      <td>0.193880</td>\n",
              "      <td>0.183090</td>\n",
              "    </tr>\n",
              "    <tr>\n",
              "      <th>3</th>\n",
              "      <td>-0.428109</td>\n",
              "      <td>-0.725834</td>\n",
              "      <td>-0.377600</td>\n",
              "      <td>-0.276084</td>\n",
              "      <td>-0.288773</td>\n",
              "      <td>0.505337</td>\n",
              "      <td>0.182204</td>\n",
              "      <td>0.758563</td>\n",
              "      <td>0.297468</td>\n",
              "      <td>-0.394165</td>\n",
              "      <td>...</td>\n",
              "      <td>0.129805</td>\n",
              "      <td>-0.039064</td>\n",
              "      <td>0.584993</td>\n",
              "      <td>0.496433</td>\n",
              "      <td>0.194329</td>\n",
              "      <td>-0.076100</td>\n",
              "      <td>-0.037932</td>\n",
              "      <td>-0.806802</td>\n",
              "      <td>0.281585</td>\n",
              "      <td>-0.156309</td>\n",
              "    </tr>\n",
              "    <tr>\n",
              "      <th>4</th>\n",
              "      <td>-0.478854</td>\n",
              "      <td>-0.757280</td>\n",
              "      <td>-0.005666</td>\n",
              "      <td>-0.194791</td>\n",
              "      <td>-0.482716</td>\n",
              "      <td>0.394825</td>\n",
              "      <td>-0.166216</td>\n",
              "      <td>0.610825</td>\n",
              "      <td>-0.036999</td>\n",
              "      <td>-0.011187</td>\n",
              "      <td>...</td>\n",
              "      <td>0.055578</td>\n",
              "      <td>-0.307464</td>\n",
              "      <td>0.116982</td>\n",
              "      <td>-0.206165</td>\n",
              "      <td>0.190313</td>\n",
              "      <td>-0.200107</td>\n",
              "      <td>-0.813707</td>\n",
              "      <td>-0.183190</td>\n",
              "      <td>0.571792</td>\n",
              "      <td>0.132012</td>\n",
              "    </tr>\n",
              "    <tr>\n",
              "      <th>...</th>\n",
              "      <td>...</td>\n",
              "      <td>...</td>\n",
              "      <td>...</td>\n",
              "      <td>...</td>\n",
              "      <td>...</td>\n",
              "      <td>...</td>\n",
              "      <td>...</td>\n",
              "      <td>...</td>\n",
              "      <td>...</td>\n",
              "      <td>...</td>\n",
              "      <td>...</td>\n",
              "      <td>...</td>\n",
              "      <td>...</td>\n",
              "      <td>...</td>\n",
              "      <td>...</td>\n",
              "      <td>...</td>\n",
              "      <td>...</td>\n",
              "      <td>...</td>\n",
              "      <td>...</td>\n",
              "      <td>...</td>\n",
              "      <td>...</td>\n",
              "    </tr>\n",
              "    <tr>\n",
              "      <th>86514</th>\n",
              "      <td>-0.433307</td>\n",
              "      <td>-0.433407</td>\n",
              "      <td>-0.967174</td>\n",
              "      <td>0.017751</td>\n",
              "      <td>-0.490015</td>\n",
              "      <td>0.086356</td>\n",
              "      <td>0.549783</td>\n",
              "      <td>0.811569</td>\n",
              "      <td>-0.199876</td>\n",
              "      <td>-0.169756</td>\n",
              "      <td>...</td>\n",
              "      <td>0.224933</td>\n",
              "      <td>0.052450</td>\n",
              "      <td>0.266871</td>\n",
              "      <td>0.164655</td>\n",
              "      <td>0.316175</td>\n",
              "      <td>-0.036697</td>\n",
              "      <td>-0.121637</td>\n",
              "      <td>-0.640279</td>\n",
              "      <td>0.822378</td>\n",
              "      <td>-0.108541</td>\n",
              "    </tr>\n",
              "    <tr>\n",
              "      <th>86515</th>\n",
              "      <td>-0.519334</td>\n",
              "      <td>0.053685</td>\n",
              "      <td>-1.135710</td>\n",
              "      <td>0.434873</td>\n",
              "      <td>-0.102463</td>\n",
              "      <td>0.151388</td>\n",
              "      <td>0.135491</td>\n",
              "      <td>0.792355</td>\n",
              "      <td>-0.337779</td>\n",
              "      <td>-0.197576</td>\n",
              "      <td>...</td>\n",
              "      <td>-0.053217</td>\n",
              "      <td>-0.472103</td>\n",
              "      <td>0.051998</td>\n",
              "      <td>0.233606</td>\n",
              "      <td>0.334826</td>\n",
              "      <td>0.294379</td>\n",
              "      <td>-0.238644</td>\n",
              "      <td>-0.626327</td>\n",
              "      <td>0.405813</td>\n",
              "      <td>0.006394</td>\n",
              "    </tr>\n",
              "    <tr>\n",
              "      <th>86516</th>\n",
              "      <td>-0.604897</td>\n",
              "      <td>-0.841650</td>\n",
              "      <td>-0.293491</td>\n",
              "      <td>-0.273255</td>\n",
              "      <td>0.119491</td>\n",
              "      <td>-0.121542</td>\n",
              "      <td>0.013606</td>\n",
              "      <td>0.956161</td>\n",
              "      <td>0.259269</td>\n",
              "      <td>-0.003842</td>\n",
              "      <td>...</td>\n",
              "      <td>0.040477</td>\n",
              "      <td>-0.021661</td>\n",
              "      <td>0.362763</td>\n",
              "      <td>0.616415</td>\n",
              "      <td>0.123729</td>\n",
              "      <td>0.608757</td>\n",
              "      <td>0.064516</td>\n",
              "      <td>-0.557803</td>\n",
              "      <td>0.287203</td>\n",
              "      <td>-0.337126</td>\n",
              "    </tr>\n",
              "    <tr>\n",
              "      <th>86517</th>\n",
              "      <td>-0.251447</td>\n",
              "      <td>-0.169100</td>\n",
              "      <td>-0.530550</td>\n",
              "      <td>0.087250</td>\n",
              "      <td>-0.653295</td>\n",
              "      <td>-0.094658</td>\n",
              "      <td>0.581185</td>\n",
              "      <td>1.027400</td>\n",
              "      <td>-0.118385</td>\n",
              "      <td>-0.171084</td>\n",
              "      <td>...</td>\n",
              "      <td>-0.287887</td>\n",
              "      <td>0.042789</td>\n",
              "      <td>-0.049742</td>\n",
              "      <td>0.197822</td>\n",
              "      <td>0.407080</td>\n",
              "      <td>-0.128762</td>\n",
              "      <td>-0.177245</td>\n",
              "      <td>-0.631871</td>\n",
              "      <td>0.194791</td>\n",
              "      <td>0.020785</td>\n",
              "    </tr>\n",
              "    <tr>\n",
              "      <th>86518</th>\n",
              "      <td>-0.444577</td>\n",
              "      <td>-0.084230</td>\n",
              "      <td>-0.297555</td>\n",
              "      <td>0.028850</td>\n",
              "      <td>-0.384673</td>\n",
              "      <td>0.132407</td>\n",
              "      <td>0.183534</td>\n",
              "      <td>0.572081</td>\n",
              "      <td>-0.274321</td>\n",
              "      <td>-0.096338</td>\n",
              "      <td>...</td>\n",
              "      <td>0.015481</td>\n",
              "      <td>0.062222</td>\n",
              "      <td>0.235186</td>\n",
              "      <td>0.314883</td>\n",
              "      <td>0.243985</td>\n",
              "      <td>-0.249525</td>\n",
              "      <td>-0.060813</td>\n",
              "      <td>-0.810431</td>\n",
              "      <td>0.258607</td>\n",
              "      <td>-0.037231</td>\n",
              "    </tr>\n",
              "  </tbody>\n",
              "</table>\n",
              "<p>86519 rows × 768 columns</p>\n",
              "</div>\n",
              "    <div class=\"colab-df-buttons\">\n",
              "\n",
              "  <div class=\"colab-df-container\">\n",
              "    <button class=\"colab-df-convert\" onclick=\"convertToInteractive('df-b4ea3755-28fd-462a-b50e-7ebd30f79617')\"\n",
              "            title=\"Convert this dataframe to an interactive table.\"\n",
              "            style=\"display:none;\">\n",
              "\n",
              "  <svg xmlns=\"http://www.w3.org/2000/svg\" height=\"24px\" viewBox=\"0 -960 960 960\">\n",
              "    <path d=\"M120-120v-720h720v720H120Zm60-500h600v-160H180v160Zm220 220h160v-160H400v160Zm0 220h160v-160H400v160ZM180-400h160v-160H180v160Zm440 0h160v-160H620v160ZM180-180h160v-160H180v160Zm440 0h160v-160H620v160Z\"/>\n",
              "  </svg>\n",
              "    </button>\n",
              "\n",
              "  <style>\n",
              "    .colab-df-container {\n",
              "      display:flex;\n",
              "      gap: 12px;\n",
              "    }\n",
              "\n",
              "    .colab-df-convert {\n",
              "      background-color: #E8F0FE;\n",
              "      border: none;\n",
              "      border-radius: 50%;\n",
              "      cursor: pointer;\n",
              "      display: none;\n",
              "      fill: #1967D2;\n",
              "      height: 32px;\n",
              "      padding: 0 0 0 0;\n",
              "      width: 32px;\n",
              "    }\n",
              "\n",
              "    .colab-df-convert:hover {\n",
              "      background-color: #E2EBFA;\n",
              "      box-shadow: 0px 1px 2px rgba(60, 64, 67, 0.3), 0px 1px 3px 1px rgba(60, 64, 67, 0.15);\n",
              "      fill: #174EA6;\n",
              "    }\n",
              "\n",
              "    .colab-df-buttons div {\n",
              "      margin-bottom: 4px;\n",
              "    }\n",
              "\n",
              "    [theme=dark] .colab-df-convert {\n",
              "      background-color: #3B4455;\n",
              "      fill: #D2E3FC;\n",
              "    }\n",
              "\n",
              "    [theme=dark] .colab-df-convert:hover {\n",
              "      background-color: #434B5C;\n",
              "      box-shadow: 0px 1px 3px 1px rgba(0, 0, 0, 0.15);\n",
              "      filter: drop-shadow(0px 1px 2px rgba(0, 0, 0, 0.3));\n",
              "      fill: #FFFFFF;\n",
              "    }\n",
              "  </style>\n",
              "\n",
              "    <script>\n",
              "      const buttonEl =\n",
              "        document.querySelector('#df-b4ea3755-28fd-462a-b50e-7ebd30f79617 button.colab-df-convert');\n",
              "      buttonEl.style.display =\n",
              "        google.colab.kernel.accessAllowed ? 'block' : 'none';\n",
              "\n",
              "      async function convertToInteractive(key) {\n",
              "        const element = document.querySelector('#df-b4ea3755-28fd-462a-b50e-7ebd30f79617');\n",
              "        const dataTable =\n",
              "          await google.colab.kernel.invokeFunction('convertToInteractive',\n",
              "                                                    [key], {});\n",
              "        if (!dataTable) return;\n",
              "\n",
              "        const docLinkHtml = 'Like what you see? Visit the ' +\n",
              "          '<a target=\"_blank\" href=https://colab.research.google.com/notebooks/data_table.ipynb>data table notebook</a>'\n",
              "          + ' to learn more about interactive tables.';\n",
              "        element.innerHTML = '';\n",
              "        dataTable['output_type'] = 'display_data';\n",
              "        await google.colab.output.renderOutput(dataTable, element);\n",
              "        const docLink = document.createElement('div');\n",
              "        docLink.innerHTML = docLinkHtml;\n",
              "        element.appendChild(docLink);\n",
              "      }\n",
              "    </script>\n",
              "  </div>\n",
              "\n",
              "\n",
              "<div id=\"df-270ae135-fe02-475f-977d-419fb8197e4e\">\n",
              "  <button class=\"colab-df-quickchart\" onclick=\"quickchart('df-270ae135-fe02-475f-977d-419fb8197e4e')\"\n",
              "            title=\"Suggest charts.\"\n",
              "            style=\"display:none;\">\n",
              "\n",
              "<svg xmlns=\"http://www.w3.org/2000/svg\" height=\"24px\"viewBox=\"0 0 24 24\"\n",
              "     width=\"24px\">\n",
              "    <g>\n",
              "        <path d=\"M19 3H5c-1.1 0-2 .9-2 2v14c0 1.1.9 2 2 2h14c1.1 0 2-.9 2-2V5c0-1.1-.9-2-2-2zM9 17H7v-7h2v7zm4 0h-2V7h2v10zm4 0h-2v-4h2v4z\"/>\n",
              "    </g>\n",
              "</svg>\n",
              "  </button>\n",
              "\n",
              "<style>\n",
              "  .colab-df-quickchart {\n",
              "      --bg-color: #E8F0FE;\n",
              "      --fill-color: #1967D2;\n",
              "      --hover-bg-color: #E2EBFA;\n",
              "      --hover-fill-color: #174EA6;\n",
              "      --disabled-fill-color: #AAA;\n",
              "      --disabled-bg-color: #DDD;\n",
              "  }\n",
              "\n",
              "  [theme=dark] .colab-df-quickchart {\n",
              "      --bg-color: #3B4455;\n",
              "      --fill-color: #D2E3FC;\n",
              "      --hover-bg-color: #434B5C;\n",
              "      --hover-fill-color: #FFFFFF;\n",
              "      --disabled-bg-color: #3B4455;\n",
              "      --disabled-fill-color: #666;\n",
              "  }\n",
              "\n",
              "  .colab-df-quickchart {\n",
              "    background-color: var(--bg-color);\n",
              "    border: none;\n",
              "    border-radius: 50%;\n",
              "    cursor: pointer;\n",
              "    display: none;\n",
              "    fill: var(--fill-color);\n",
              "    height: 32px;\n",
              "    padding: 0;\n",
              "    width: 32px;\n",
              "  }\n",
              "\n",
              "  .colab-df-quickchart:hover {\n",
              "    background-color: var(--hover-bg-color);\n",
              "    box-shadow: 0 1px 2px rgba(60, 64, 67, 0.3), 0 1px 3px 1px rgba(60, 64, 67, 0.15);\n",
              "    fill: var(--button-hover-fill-color);\n",
              "  }\n",
              "\n",
              "  .colab-df-quickchart-complete:disabled,\n",
              "  .colab-df-quickchart-complete:disabled:hover {\n",
              "    background-color: var(--disabled-bg-color);\n",
              "    fill: var(--disabled-fill-color);\n",
              "    box-shadow: none;\n",
              "  }\n",
              "\n",
              "  .colab-df-spinner {\n",
              "    border: 2px solid var(--fill-color);\n",
              "    border-color: transparent;\n",
              "    border-bottom-color: var(--fill-color);\n",
              "    animation:\n",
              "      spin 1s steps(1) infinite;\n",
              "  }\n",
              "\n",
              "  @keyframes spin {\n",
              "    0% {\n",
              "      border-color: transparent;\n",
              "      border-bottom-color: var(--fill-color);\n",
              "      border-left-color: var(--fill-color);\n",
              "    }\n",
              "    20% {\n",
              "      border-color: transparent;\n",
              "      border-left-color: var(--fill-color);\n",
              "      border-top-color: var(--fill-color);\n",
              "    }\n",
              "    30% {\n",
              "      border-color: transparent;\n",
              "      border-left-color: var(--fill-color);\n",
              "      border-top-color: var(--fill-color);\n",
              "      border-right-color: var(--fill-color);\n",
              "    }\n",
              "    40% {\n",
              "      border-color: transparent;\n",
              "      border-right-color: var(--fill-color);\n",
              "      border-top-color: var(--fill-color);\n",
              "    }\n",
              "    60% {\n",
              "      border-color: transparent;\n",
              "      border-right-color: var(--fill-color);\n",
              "    }\n",
              "    80% {\n",
              "      border-color: transparent;\n",
              "      border-right-color: var(--fill-color);\n",
              "      border-bottom-color: var(--fill-color);\n",
              "    }\n",
              "    90% {\n",
              "      border-color: transparent;\n",
              "      border-bottom-color: var(--fill-color);\n",
              "    }\n",
              "  }\n",
              "</style>\n",
              "\n",
              "  <script>\n",
              "    async function quickchart(key) {\n",
              "      const quickchartButtonEl =\n",
              "        document.querySelector('#' + key + ' button');\n",
              "      quickchartButtonEl.disabled = true;  // To prevent multiple clicks.\n",
              "      quickchartButtonEl.classList.add('colab-df-spinner');\n",
              "      try {\n",
              "        const charts = await google.colab.kernel.invokeFunction(\n",
              "            'suggestCharts', [key], {});\n",
              "      } catch (error) {\n",
              "        console.error('Error during call to suggestCharts:', error);\n",
              "      }\n",
              "      quickchartButtonEl.classList.remove('colab-df-spinner');\n",
              "      quickchartButtonEl.classList.add('colab-df-quickchart-complete');\n",
              "    }\n",
              "    (() => {\n",
              "      let quickchartButtonEl =\n",
              "        document.querySelector('#df-270ae135-fe02-475f-977d-419fb8197e4e button');\n",
              "      quickchartButtonEl.style.display =\n",
              "        google.colab.kernel.accessAllowed ? 'block' : 'none';\n",
              "    })();\n",
              "  </script>\n",
              "</div>\n",
              "    </div>\n",
              "  </div>\n"
            ]
          },
          "metadata": {},
          "execution_count": 99
        }
      ],
      "source": [
        "# build a dataframe with the features obtained using BERT (num_docs x 768)\n",
        "df_features_bert = pd.DataFrame(all_cls)\n",
        "df_features_bert"
      ]
    },
    {
      "cell_type": "code",
      "execution_count": null,
      "metadata": {
        "id": "e0vz-49P3PhZ"
      },
      "outputs": [],
      "source": [
        "# get only the NAICS2 code for each sentence to use as the labels for our regression\n",
        "labels = df[[\"district\"]]"
      ]
    },
    {
      "cell_type": "code",
      "execution_count": null,
      "metadata": {
        "colab": {
          "base_uri": "https://localhost:8080/"
        },
        "id": "1ena6JP03Pha",
        "outputId": "28f9ac71-1101-46a1-8458-a987437a0458"
      },
      "outputs": [
        {
          "output_type": "stream",
          "name": "stdout",
          "text": [
            "(86519, 768) (86519, 1)\n"
          ]
        }
      ],
      "source": [
        "print(df_features_bert.shape, labels.shape) #86908-1000?"
      ]
    },
    {
      "cell_type": "markdown",
      "metadata": {
        "id": "v1pRHyls3Pha"
      },
      "source": [
        "### Word embeddings features\n",
        "\n",
        "We will also generate an embedded representation of sequences using word embeddings from a pre-trained model. This will give us a reference point with respect to which we can assess the quality of the features generated with BERT.\n",
        "\n",
        "\n",
        "We will use word embeddings estimated with the GloVe algorithm on Wikipedia and a large news corpus. In order to generate a single representation for a whole sentence, we will average the individual word embeddings of all words from the sentence.\n"
      ]
    },
    {
      "cell_type": "code",
      "execution_count": null,
      "metadata": {
        "colab": {
          "base_uri": "https://localhost:8080/"
        },
        "id": "lrGCAbU43Phb",
        "outputId": "743a0153-cec9-4f64-a1be-b5a517f25c3e"
      },
      "outputs": [
        {
          "output_type": "stream",
          "name": "stdout",
          "text": [
            "[==================================================] 100.0% 376.1/376.1MB downloaded\n"
          ]
        }
      ],
      "source": [
        "# download the model and return as an object ready to use (takes a couple of minutes)\n",
        "# other available models can be found here: https://kavita-ganesan.com/easily-access-pre-trained-word-embeddings-with-gensim/\n",
        "#w2v_model = api.load(\"word2vec-google-news-300\")    # model is too large to load in Colab\n",
        "w2v_model = api.load(\"glove-wiki-gigaword-300\")"
      ]
    },
    {
      "cell_type": "markdown",
      "metadata": {
        "id": "YZOc6QnE3Phg"
      },
      "source": [
        "### Estimate regressions"
      ]
    },
    {
      "cell_type": "code",
      "execution_count": null,
      "metadata": {
        "colab": {
          "base_uri": "https://localhost:8080/"
        },
        "id": "pW1B7OjA3Phh",
        "outputId": "b06f1dc7-8dd5-46b8-9e53-a3db94c57c2b"
      },
      "outputs": [
        {
          "output_type": "execute_result",
          "data": {
            "text/plain": [
              "86519"
            ]
          },
          "metadata": {},
          "execution_count": 104
        }
      ],
      "source": [
        "# create list with all the indexes of available sentences\n",
        "sent_idxs = list(range(0, len(labels)))"
      ]
    },
    {
      "cell_type": "code",
      "execution_count": null,
      "metadata": {
        "colab": {
          "base_uri": "https://localhost:8080/"
        },
        "id": "gNwso_hw3Phi",
        "outputId": "e6010fb8-f934-43de-e708-f0e91e775264"
      },
      "outputs": [
        {
          "output_type": "stream",
          "name": "stdout",
          "text": [
            " Train sentences: 69215\n",
            " Test sentences: 17304\n"
          ]
        }
      ],
      "source": [
        "# perform a train/test split\n",
        "train_idxs, test_idxs = train_test_split(sent_idxs, test_size=0.2, random_state=92)\n",
        "print(f\" Train sentences: {len(train_idxs)}\\n\", f\"Test sentences: {len(test_idxs)}\")"
      ]
    },
    {
      "cell_type": "code",
      "execution_count": null,
      "metadata": {
        "id": "HK6Hd_lC3Phj"
      },
      "outputs": [],
      "source": [
        "# select idxs for training and testing\n",
        "\n",
        "# BERT\n",
        "train_bert_features = df_features_bert.loc[train_idxs]\n",
        "test_bert_features = df_features_bert.loc[test_idxs]\n",
        "\n",
        "# Labels\n",
        "train_labels = labels_w2v.loc[train_idxs]\n",
        "test_labels = labels_w2v.loc[test_idxs]"
      ]
    },
    {
      "cell_type": "code",
      "execution_count": null,
      "metadata": {
        "id": "kGiJe9um3Phj"
      },
      "outputs": [],
      "source": [
        "# BERT: fit a multinomial logistic regression to predict the sector of each sentence\n",
        "lr_bert = LogisticRegression(penalty=\"l2\",\n",
        "                             multi_class = \"multinomial\",\n",
        "                             solver=\"lbfgs\",\n",
        "                             max_iter=100000)\n",
        "\n",
        "lr_bert.fit(train_bert_features, train_labels.values.ravel())\n"
      ]
    },
    {
      "cell_type": "code",
      "execution_count": null,
      "metadata": {
        "id": "mg8ML5tp3Phj"
      },
      "outputs": [],
      "source": [
        "# get in sample predictions for both models\n",
        "pred_train_bert = lr_bert.predict(train_bert_features)\n",
        "\n",
        "print(f\"Random guess accuracy: {1/len(df.groupby('district').size())}\\n\")\n",
        "\n",
        "print(\"===========================\\nBERT results:\")\n",
        "train_acc_bert = accuracy_score(train_labels, pred_train_bert)\n",
        "print(f\"In sample accuracy: {train_acc_bert}\")\n",
        "train_f1_bert = f1_score(train_labels, pred_train_bert, average=\"micro\")\n",
        "print(f\"In sample F1 score: {train_f1_bert}\")\n",
        "train_precision_bert = precision_score(train_labels, pred_train_bert, average=\"micro\")\n",
        "print(f\"In sample precision score: {train_precision_bert}\")\n",
        "train_recall_bert = recall_score(train_labels, pred_train_bert, average=\"micro\")\n",
        "print(f\"In sample recall score: {train_recall_bert}\")\n"
      ]
    },
    {
      "cell_type": "code",
      "execution_count": null,
      "metadata": {
        "colab": {
          "base_uri": "https://localhost:8080/"
        },
        "id": "4_Y078L83Phk",
        "outputId": "8a912d76-abec-4e74-ab5d-8923a5096df8"
      },
      "outputs": [
        {
          "output_type": "stream",
          "name": "stdout",
          "text": [
            "Random guess accuracy: 0.08333333333333333\n",
            "\n",
            "===========================\n",
            "BERT results:\n",
            "Test accuracy: 0.5745023587619377\n",
            "Test F1 score: 0.5745023587619377\n",
            "Test precision score: 0.5745023587619377\n",
            "Test recall score: 0.5745023587619377\n",
            "\n",
            "===========================\n",
            "Word embeddings results:\n",
            "Test accuracy: 0.5140950408468531\n",
            "Test F1 score: 0.5140950408468531\n",
            "Test precision score: 0.5140950408468531\n",
            "Test recall score: 0.5140950408468531\n"
          ]
        }
      ],
      "source": [
        "# get out-of-sample predictions for both models\n",
        "pred_test_bert = lr_bert.predict(test_bert_features)\n",
        "\n",
        "print(f\"Random guess accuracy: {1/len(df.groupby('district').size())}\\n\")\n",
        "\n",
        "print(\"===========================\\nBERT results:\")\n",
        "test_acc_bert = accuracy_score(test_labels, pred_test_bert)\n",
        "print(f\"Test accuracy: {test_acc_bert}\")\n",
        "test_f1_bert = f1_score(test_labels, pred_test_bert, average=\"micro\")\n",
        "print(f\"Test F1 score: {test_f1_bert}\")\n",
        "test_precision_bert = precision_score(test_labels, pred_test_bert, average=\"micro\")\n",
        "print(f\"Test precision score: {test_precision_bert}\")\n",
        "test_recall_bert = recall_score(test_labels, pred_test_bert, average=\"micro\")\n",
        "print(f\"Test recall score: {test_recall_bert}\")\n"
      ]
    },
    {
      "cell_type": "markdown",
      "metadata": {
        "id": "YvcRaLUp3Phl"
      },
      "source": [
        "### Out-of-corpus sentence\n",
        "\n",
        "We can now also use our estimated regression to predict the sector of any given sequence of text we migth imagine. We will demonstrate this by using BERT."
      ]
    },
    {
      "cell_type": "code",
      "source": [
        "# df.loc[df.district=='at'].sentence\n",
        "df.loc[314269].sentence"
      ],
      "metadata": {
        "colab": {
          "base_uri": "https://localhost:8080/",
          "height": 36
        },
        "id": "Tvoi0Ah-Jhwg",
        "outputId": "f7184e1a-5514-4eb1-d3c5-605169b0e4f6"
      },
      "execution_count": null,
      "outputs": [
        {
          "output_type": "execute_result",
          "data": {
            "text/plain": [
              "'The cattle market remained strong as demand for beef remained high amid low supply'"
            ],
            "application/vnd.google.colaboratory.intrinsic+json": {
              "type": "string"
            }
          },
          "metadata": {},
          "execution_count": 57
        }
      ]
    },
    {
      "cell_type": "code",
      "execution_count": null,
      "metadata": {
        "colab": {
          "base_uri": "https://localhost:8080/"
        },
        "id": "Z5zP-hTm3Phm",
        "outputId": "df89a788-07bd-4859-8a1d-70551c325a7b"
      },
      "outputs": [
        {
          "output_type": "stream",
          "name": "stdout",
          "text": [
            "Shape of [CLS] embedding: torch.Size([768])\n"
          ]
        }
      ],
      "source": [
        "# define a target sentence\n",
        "outside_target = \"The cattle market remained strong as demand for beef remained high amid low supply\"\n",
        "\n",
        "# tokenize sentence\n",
        "outside_tokens = tokenizer(outside_target, return_tensors='pt')\n",
        "outside_tokens = outside_tokens.to(\"cuda\")  # required when using GPU\n",
        "\n",
        "# apply forward pass through the model (do not accumulate gradients; we are not training)\n",
        "with torch.no_grad():\n",
        "    result = model(**outside_tokens, output_attentions=True)\n",
        "\n",
        "# extract [CLS] token embedding from last layer\n",
        "outside_cls_emb = result.hidden_states[-1][0][0]\n",
        "outside_cls_emb = outside_cls_emb.cpu() # required when using GPU\n",
        "# print(f\"Shape of [CLS] embedding: {outside_cls_emb.shape}\")"
      ]
    },
    {
      "cell_type": "code",
      "execution_count": null,
      "metadata": {
        "colab": {
          "base_uri": "https://localhost:8080/"
        },
        "id": "-jH6ggUg3Phn",
        "outputId": "1f4f0b2a-2703-45d2-daba-9758aec788a4"
      },
      "outputs": [
        {
          "output_type": "stream",
          "name": "stdout",
          "text": [
            "Predicted district: sf\n",
            "Predicted district: sf\n",
            "--------\n",
            "\n",
            "Predicted probability for at: 0.165\n",
            "Predicted probability for bo: 0.005\n",
            "Predicted probability for ch: 0.066\n",
            "Predicted probability for cl: 0.006\n",
            "Predicted probability for da: 0.132\n",
            "Predicted probability for kc: 0.051\n",
            "Predicted probability for mi: 0.209\n",
            "Predicted probability for ny: 0.001\n",
            "Predicted probability for ph: 0.001\n",
            "Predicted probability for ri: 0.123\n",
            "Predicted probability for sf: 0.229\n",
            "Predicted probability for sl: 0.012\n"
          ]
        }
      ],
      "source": [
        "# generate class prediction for out-of-corpus sentence\n",
        "outside_prediction = lr_bert.predict(outside_cls_emb.numpy().reshape(1, -1))\n",
        "print(f\"Predicted district: {outside_prediction[0]}\")\n",
        "\n",
        "# transform sector code into name\n",
        "prediction_name = df.loc[df[\"district\"] == outside_prediction[0]][\"district\"].values[0]\n",
        "print(f\"Predicted district: {prediction_name}\\n--------\\n\")\n",
        "\n",
        "# generate probability predictions for out-of-corpus sentence\n",
        "outside_probs = lr_bert.predict_proba(outside_cls_emb.numpy().reshape(1, -1))\n",
        "outside_probs\n",
        "\n",
        "for prob, code in zip(outside_probs[0], lr_bert.classes_):\n",
        "    code_name = df.loc[df[\"district\"] == code][\"district\"].values[0]\n",
        "    print(f\"Predicted probability for {code_name}: {np.round(prob,3)}\")"
      ]
    }
  ],
  "metadata": {
    "accelerator": "GPU",
    "colab": {
      "provenance": [],
      "collapsed_sections": [
        "KX9UlXms3Pgj",
        "KtKf00hv3Pg-",
        "Kd0EL29r3PhG"
      ]
    },
    "gpuClass": "standard",
    "kernelspec": {
      "display_name": "Python 3",
      "name": "python3"
    },
    "language_info": {
      "codemirror_mode": {
        "name": "ipython",
        "version": 3
      },
      "file_extension": ".py",
      "mimetype": "text/x-python",
      "name": "python",
      "nbconvert_exporter": "python",
      "pygments_lexer": "ipython3",
      "version": "3.11.0"
    },
    "orig_nbformat": 4,
    "widgets": {
      "application/vnd.jupyter.widget-state+json": {
        "f77465ea951d410795056cf011508512": {
          "model_module": "@jupyter-widgets/controls",
          "model_name": "HBoxModel",
          "model_module_version": "1.5.0",
          "state": {
            "_dom_classes": [],
            "_model_module": "@jupyter-widgets/controls",
            "_model_module_version": "1.5.0",
            "_model_name": "HBoxModel",
            "_view_count": null,
            "_view_module": "@jupyter-widgets/controls",
            "_view_module_version": "1.5.0",
            "_view_name": "HBoxView",
            "box_style": "",
            "children": [
              "IPY_MODEL_412dcd6a4c074c47ab791cef90a25e39",
              "IPY_MODEL_c39a2820969b4502973477fca134dd20",
              "IPY_MODEL_756fd737cf4b4fd2ad1f2c6c59eb110c"
            ],
            "layout": "IPY_MODEL_290238a3f1334d29b95ba2e38b800a76"
          }
        },
        "412dcd6a4c074c47ab791cef90a25e39": {
          "model_module": "@jupyter-widgets/controls",
          "model_name": "HTMLModel",
          "model_module_version": "1.5.0",
          "state": {
            "_dom_classes": [],
            "_model_module": "@jupyter-widgets/controls",
            "_model_module_version": "1.5.0",
            "_model_name": "HTMLModel",
            "_view_count": null,
            "_view_module": "@jupyter-widgets/controls",
            "_view_module_version": "1.5.0",
            "_view_name": "HTMLView",
            "description": "",
            "description_tooltip": null,
            "layout": "IPY_MODEL_a4c4247136e944bea0652309beeb0f86",
            "placeholder": "​",
            "style": "IPY_MODEL_08e8c2f67abc4aef88eff2d520a1e903",
            "value": ""
          }
        },
        "c39a2820969b4502973477fca134dd20": {
          "model_module": "@jupyter-widgets/controls",
          "model_name": "FloatProgressModel",
          "model_module_version": "1.5.0",
          "state": {
            "_dom_classes": [],
            "_model_module": "@jupyter-widgets/controls",
            "_model_module_version": "1.5.0",
            "_model_name": "FloatProgressModel",
            "_view_count": null,
            "_view_module": "@jupyter-widgets/controls",
            "_view_module_version": "1.5.0",
            "_view_name": "ProgressView",
            "bar_style": "success",
            "description": "",
            "description_tooltip": null,
            "layout": "IPY_MODEL_5426c15dc8da447faaaf2b8ea9dc3859",
            "max": 5408,
            "min": 0,
            "orientation": "horizontal",
            "style": "IPY_MODEL_fd52c2f9f10f424f9d282356261b472f",
            "value": 5408
          }
        },
        "756fd737cf4b4fd2ad1f2c6c59eb110c": {
          "model_module": "@jupyter-widgets/controls",
          "model_name": "HTMLModel",
          "model_module_version": "1.5.0",
          "state": {
            "_dom_classes": [],
            "_model_module": "@jupyter-widgets/controls",
            "_model_module_version": "1.5.0",
            "_model_name": "HTMLModel",
            "_view_count": null,
            "_view_module": "@jupyter-widgets/controls",
            "_view_module_version": "1.5.0",
            "_view_name": "HTMLView",
            "description": "",
            "description_tooltip": null,
            "layout": "IPY_MODEL_dc4885ce4be04d728c9c62f57fd495b4",
            "placeholder": "​",
            "style": "IPY_MODEL_eba7525bbf2c40489ef31fe8def313e1",
            "value": " 86519/? [06:35&lt;00:00, 237.71it/s]"
          }
        },
        "290238a3f1334d29b95ba2e38b800a76": {
          "model_module": "@jupyter-widgets/base",
          "model_name": "LayoutModel",
          "model_module_version": "1.2.0",
          "state": {
            "_model_module": "@jupyter-widgets/base",
            "_model_module_version": "1.2.0",
            "_model_name": "LayoutModel",
            "_view_count": null,
            "_view_module": "@jupyter-widgets/base",
            "_view_module_version": "1.2.0",
            "_view_name": "LayoutView",
            "align_content": null,
            "align_items": null,
            "align_self": null,
            "border": null,
            "bottom": null,
            "display": null,
            "flex": null,
            "flex_flow": null,
            "grid_area": null,
            "grid_auto_columns": null,
            "grid_auto_flow": null,
            "grid_auto_rows": null,
            "grid_column": null,
            "grid_gap": null,
            "grid_row": null,
            "grid_template_areas": null,
            "grid_template_columns": null,
            "grid_template_rows": null,
            "height": null,
            "justify_content": null,
            "justify_items": null,
            "left": null,
            "margin": null,
            "max_height": null,
            "max_width": null,
            "min_height": null,
            "min_width": null,
            "object_fit": null,
            "object_position": null,
            "order": null,
            "overflow": null,
            "overflow_x": null,
            "overflow_y": null,
            "padding": null,
            "right": null,
            "top": null,
            "visibility": null,
            "width": null
          }
        },
        "a4c4247136e944bea0652309beeb0f86": {
          "model_module": "@jupyter-widgets/base",
          "model_name": "LayoutModel",
          "model_module_version": "1.2.0",
          "state": {
            "_model_module": "@jupyter-widgets/base",
            "_model_module_version": "1.2.0",
            "_model_name": "LayoutModel",
            "_view_count": null,
            "_view_module": "@jupyter-widgets/base",
            "_view_module_version": "1.2.0",
            "_view_name": "LayoutView",
            "align_content": null,
            "align_items": null,
            "align_self": null,
            "border": null,
            "bottom": null,
            "display": null,
            "flex": null,
            "flex_flow": null,
            "grid_area": null,
            "grid_auto_columns": null,
            "grid_auto_flow": null,
            "grid_auto_rows": null,
            "grid_column": null,
            "grid_gap": null,
            "grid_row": null,
            "grid_template_areas": null,
            "grid_template_columns": null,
            "grid_template_rows": null,
            "height": null,
            "justify_content": null,
            "justify_items": null,
            "left": null,
            "margin": null,
            "max_height": null,
            "max_width": null,
            "min_height": null,
            "min_width": null,
            "object_fit": null,
            "object_position": null,
            "order": null,
            "overflow": null,
            "overflow_x": null,
            "overflow_y": null,
            "padding": null,
            "right": null,
            "top": null,
            "visibility": null,
            "width": null
          }
        },
        "08e8c2f67abc4aef88eff2d520a1e903": {
          "model_module": "@jupyter-widgets/controls",
          "model_name": "DescriptionStyleModel",
          "model_module_version": "1.5.0",
          "state": {
            "_model_module": "@jupyter-widgets/controls",
            "_model_module_version": "1.5.0",
            "_model_name": "DescriptionStyleModel",
            "_view_count": null,
            "_view_module": "@jupyter-widgets/base",
            "_view_module_version": "1.2.0",
            "_view_name": "StyleView",
            "description_width": ""
          }
        },
        "5426c15dc8da447faaaf2b8ea9dc3859": {
          "model_module": "@jupyter-widgets/base",
          "model_name": "LayoutModel",
          "model_module_version": "1.2.0",
          "state": {
            "_model_module": "@jupyter-widgets/base",
            "_model_module_version": "1.2.0",
            "_model_name": "LayoutModel",
            "_view_count": null,
            "_view_module": "@jupyter-widgets/base",
            "_view_module_version": "1.2.0",
            "_view_name": "LayoutView",
            "align_content": null,
            "align_items": null,
            "align_self": null,
            "border": null,
            "bottom": null,
            "display": null,
            "flex": null,
            "flex_flow": null,
            "grid_area": null,
            "grid_auto_columns": null,
            "grid_auto_flow": null,
            "grid_auto_rows": null,
            "grid_column": null,
            "grid_gap": null,
            "grid_row": null,
            "grid_template_areas": null,
            "grid_template_columns": null,
            "grid_template_rows": null,
            "height": null,
            "justify_content": null,
            "justify_items": null,
            "left": null,
            "margin": null,
            "max_height": null,
            "max_width": null,
            "min_height": null,
            "min_width": null,
            "object_fit": null,
            "object_position": null,
            "order": null,
            "overflow": null,
            "overflow_x": null,
            "overflow_y": null,
            "padding": null,
            "right": null,
            "top": null,
            "visibility": null,
            "width": null
          }
        },
        "fd52c2f9f10f424f9d282356261b472f": {
          "model_module": "@jupyter-widgets/controls",
          "model_name": "ProgressStyleModel",
          "model_module_version": "1.5.0",
          "state": {
            "_model_module": "@jupyter-widgets/controls",
            "_model_module_version": "1.5.0",
            "_model_name": "ProgressStyleModel",
            "_view_count": null,
            "_view_module": "@jupyter-widgets/base",
            "_view_module_version": "1.2.0",
            "_view_name": "StyleView",
            "bar_color": null,
            "description_width": ""
          }
        },
        "dc4885ce4be04d728c9c62f57fd495b4": {
          "model_module": "@jupyter-widgets/base",
          "model_name": "LayoutModel",
          "model_module_version": "1.2.0",
          "state": {
            "_model_module": "@jupyter-widgets/base",
            "_model_module_version": "1.2.0",
            "_model_name": "LayoutModel",
            "_view_count": null,
            "_view_module": "@jupyter-widgets/base",
            "_view_module_version": "1.2.0",
            "_view_name": "LayoutView",
            "align_content": null,
            "align_items": null,
            "align_self": null,
            "border": null,
            "bottom": null,
            "display": null,
            "flex": null,
            "flex_flow": null,
            "grid_area": null,
            "grid_auto_columns": null,
            "grid_auto_flow": null,
            "grid_auto_rows": null,
            "grid_column": null,
            "grid_gap": null,
            "grid_row": null,
            "grid_template_areas": null,
            "grid_template_columns": null,
            "grid_template_rows": null,
            "height": null,
            "justify_content": null,
            "justify_items": null,
            "left": null,
            "margin": null,
            "max_height": null,
            "max_width": null,
            "min_height": null,
            "min_width": null,
            "object_fit": null,
            "object_position": null,
            "order": null,
            "overflow": null,
            "overflow_x": null,
            "overflow_y": null,
            "padding": null,
            "right": null,
            "top": null,
            "visibility": null,
            "width": null
          }
        },
        "eba7525bbf2c40489ef31fe8def313e1": {
          "model_module": "@jupyter-widgets/controls",
          "model_name": "DescriptionStyleModel",
          "model_module_version": "1.5.0",
          "state": {
            "_model_module": "@jupyter-widgets/controls",
            "_model_module_version": "1.5.0",
            "_model_name": "DescriptionStyleModel",
            "_view_count": null,
            "_view_module": "@jupyter-widgets/base",
            "_view_module_version": "1.2.0",
            "_view_name": "StyleView",
            "description_width": ""
          }
        }
      }
    }
  },
  "nbformat": 4,
  "nbformat_minor": 0
}